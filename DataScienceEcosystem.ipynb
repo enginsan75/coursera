{
 "cells": [
  {
   "cell_type": "markdown",
   "id": "c8e234bf",
   "metadata": {},
   "source": [
    "# Data Science Tools and Ecosystem"
   ]
  },
  {
   "cell_type": "markdown",
   "id": "29a23605",
   "metadata": {},
   "source": [
    "In this notebook, Data Science Tools and Ecosystem are summarized."
   ]
  },
  {
   "cell_type": "markdown",
   "id": "b26233b5",
   "metadata": {},
   "source": [
    "Some of the popular languages that Data Scientists use are:"
   ]
  },
  {
   "cell_type": "markdown",
   "id": "73b32c5b",
   "metadata": {},
   "source": [
    "1. Python\n",
    "2. R\n",
    "3. SQL\n",
    "4. Julia\n",
    "5. Scala\n",
    "6. Java\n",
    "7. C++"
   ]
  },
  {
   "cell_type": "markdown",
   "id": "08df6951",
   "metadata": {},
   "source": [
    "Some of the commonly used libraries used by Data Scientists include:"
   ]
  },
  {
   "cell_type": "markdown",
   "id": "050e6778",
   "metadata": {},
   "source": [
    "1. NumPY\n",
    "2. Pandas\n",
    "3. Scikit-learn\n",
    "4. TensorFlow"
   ]
  },
  {
   "cell_type": "markdown",
   "id": "ee83cd86",
   "metadata": {},
   "source": [
    "| Data Science Tools |\n",
    "| -------------------|\n",
    "| Juypter Notebooks|\n",
    "| R Studio|\n",
    "| Scrapy|\n"
   ]
  },
  {
   "cell_type": "markdown",
   "id": "a867c60d",
   "metadata": {},
   "source": [
    "### Below are a few examples of evaluating arithmetic expressions in Python"
   ]
  },
  {
   "cell_type": "code",
   "execution_count": 2,
   "id": "5fabc861",
   "metadata": {},
   "outputs": [],
   "source": [
    "#This a simple arithmetic expression to mutiply then add integers"
   ]
  },
  {
   "cell_type": "code",
   "execution_count": 3,
   "id": "7b838905",
   "metadata": {},
   "outputs": [
    {
     "data": {
      "text/plain": [
       "17"
      ]
     },
     "execution_count": 3,
     "metadata": {},
     "output_type": "execute_result"
    }
   ],
   "source": [
    "(3*4)+5"
   ]
  },
  {
   "cell_type": "code",
   "execution_count": 5,
   "id": "150ed5c7",
   "metadata": {},
   "outputs": [
    {
     "name": "stdout",
     "output_type": "stream",
     "text": [
      " hourtomin: 3.33\n"
     ]
    }
   ],
   "source": [
    "#This will convert 200 minutes to hours by diving by 60\n",
    "hr_to_min = 200/60\n",
    "print(f\" hourtomin: {hr_to_min:.2f}\")"
   ]
  },
  {
   "cell_type": "markdown",
   "id": "685c420d",
   "metadata": {},
   "source": [
    "**Objectives:**\n",
    "\n",
    ". Python\n",
    "\n",
    ". R\n",
    "\n",
    ". SQL\n",
    "\n",
    ". Julia\n",
    "\n",
    ". Scala\n",
    "\n",
    ". Java\n",
    "\n",
    ". C++\n"
   ]
  },
  {
   "cell_type": "markdown",
   "id": "f76b531c",
   "metadata": {},
   "source": [
    "## Author\n",
    "Engin SAN\n"
   ]
  },
  {
   "cell_type": "code",
   "execution_count": null,
   "id": "9a47ec2c",
   "metadata": {},
   "outputs": [],
   "source": []
  }
 ],
 "metadata": {
  "kernelspec": {
   "display_name": "Python 3 (ipykernel)",
   "language": "python",
   "name": "python3"
  },
  "language_info": {
   "codemirror_mode": {
    "name": "ipython",
    "version": 3
   },
   "file_extension": ".py",
   "mimetype": "text/x-python",
   "name": "python",
   "nbconvert_exporter": "python",
   "pygments_lexer": "ipython3",
   "version": "3.11.5"
  }
 },
 "nbformat": 4,
 "nbformat_minor": 5
}
